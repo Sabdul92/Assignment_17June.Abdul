{
 "cells": [
  {
   "cell_type": "code",
   "execution_count": null,
   "id": "2b1f835b-c85f-4c80-82b0-578a8f1c303b",
   "metadata": {},
   "outputs": [],
   "source": [
    "Q.1) What is the role of try and exception block?\n",
    "\n",
    "Ans:- The try block lets you test a block of code for errors. The except block lets you handle the error.\n"
   ]
  },
  {
   "cell_type": "code",
   "execution_count": null,
   "id": "b862b79f-4ecb-4e6d-bf62-773063a89a4f",
   "metadata": {},
   "outputs": [],
   "source": [
    "Q.2) What is the syntax for a basic try-except block?\n",
    "\n",
    "Ans:- The code that follows the except statement is the program's response to any exceptions in the preceding try clause."
   ]
  },
  {
   "cell_type": "code",
   "execution_count": null,
   "id": "42af036c-2b90-4d20-9d11-55c6e3deb51e",
   "metadata": {},
   "outputs": [],
   "source": [
    "Q.3) What happens if an exception occurs inside a try block and there is no matching except block?\n",
    "\n",
    "Ans:- If an exception occurs which does not match the exception named in the except clause, it is passed on to outer try statements;\n",
    "if no handler is found, it is an unhandled exception and execution stops with a message as shown above.\n"
   ]
  },
  {
   "cell_type": "code",
   "execution_count": null,
   "id": "a5b56bab-c5c7-4202-bd0f-1a7273a4c540",
   "metadata": {},
   "outputs": [],
   "source": [
    "Q.4) What is the difference between using a bare except block and specifying a specific exception type?\n",
    "\n",
    "Ans:- In this piece of code, I could write a simple except clause without writing Exception in front of it. \n",
    "I mean the last line could be like this :\n",
    "\n",
    "except:\n",
    "  print('Hit an exception other than KeyError or NameError!')"
   ]
  },
  {
   "cell_type": "code",
   "execution_count": null,
   "id": "a2c397bb-fa25-41d2-92de-341aab498401",
   "metadata": {},
   "outputs": [],
   "source": [
    "Q.5) Can you have nested try-except blocks in Python? If yes, then give an example.\n",
    "\n",
    "Ans:- We can have nested try-except blocks in Python. In this case, if an exception is raised in the nested try block, \n",
    "the nested except block is used to handle it. In case the nested except is not able to handle it, the outer except blocks are \n",
    "used to handle the exception."
   ]
  },
  {
   "cell_type": "code",
   "execution_count": null,
   "id": "f5e71bb7-d634-4070-80af-4f3a49d64370",
   "metadata": {},
   "outputs": [],
   "source": [
    "Q.6) Can we use multiple exception blocks, if yes then give an example.\n",
    "\n",
    "Ans:- It is possible to have multiple except blocks for one try block. Let us see Python multiple exception handling examples. \n",
    "Example:-\n",
    "When the interpreter encounters an exception, it checks the except blocks associated with that try block. These except blocks may \n",
    "declare what kind of exceptions they handle."
   ]
  },
  {
   "cell_type": "code",
   "execution_count": null,
   "id": "73950243-45be-4d57-85f3-0d04f0601a7b",
   "metadata": {},
   "outputs": [],
   "source": [
    "7. Write the reason due to which following errors are raised:\n",
    "a. EOFError\n",
    "b. FloatingPointError\n",
    "c. IndexError\n",
    "d. MemoryError\n",
    "e. OverflowError\n",
    "f. TabError\n",
    "g. ValueError\n",
    "\n",
    "Ans:-\n",
    "a.)EOFError :- EOFError is raised when one of the built-in functions input() or raw_input() hits an end-of-file condition (EOF)\n",
    "without reading any data. This error is sometimes experienced while using online IDEs. \n",
    "Example: This code will generate an EOFError when there is no input given to the online IDE.\n",
    "\n",
    "b.) FloatingPointError:- Python documentation says that FloatingPointError is raised when a float calculation fails. But what is exactly\n",
    "meant here by \"a float calculation\"? I tried adding, multiplying and dividing with floats but never managed to raise this specific error\n",
    "\n",
    "c. IndexError :- An IndexError means that your code is trying to access an index that is invalid. This is usually because\n",
    "the index goes out of bounds by being too large. For example, if you have a list with three items and you try to access\n",
    "the fourth item, you will get an IndexError.\n",
    "\n",
    "d.) MemoryError :- A MemoryError means that the interpreter has run out of memory to allocate to your Python program. \n",
    "This may be due to an issue in the setup of the Python environment or it may be a concern with the code itself loading\n",
    "too much dataat the same time.\n",
    "\n",
    "e.) OverflowError In Python, OverflowError occurs when any operations like arithmetic operations or any other variable storing any \n",
    "value above its limit then there occurs an overflow of values that will exceed it’s specified or already defined limit.\n",
    "In general, in all programming languages, this overflow error means the same. In Python also this error occurs\n",
    "when an arithmetic operation result is stored in any variable where the result value is larger than any given data\n",
    "type like float, int, etc exceeds the limit or value of current Python runtime values. Therefore when these values are \n",
    "larger than the declared data type values will result to raise memory errors.\n",
    "\n",
    "f.) TabError :- The Python \"TabError: inconsistent use of tabs and spaces in indentation\" occurs when we mix tabs and spaces \n",
    "in the same code block. To solve the error, remove the spacing and only use tabs or spaces, but don't mix the two in the same code block.\n",
    "\n",
    "g.) ValueError :- ValueError in Python is raised when a user gives an invalid value to a function but is of a valid argument.\n",
    "It usually occurs in mathematical operations that will require a certain kind of value, even when the value is the correct argument.\n",
    "Imagine telling Python to take the square root of a negative integer."
   ]
  },
  {
   "cell_type": "code",
   "execution_count": 1,
   "id": "7e06a687-c2cf-45c2-8e9f-6e9ead8f11b0",
   "metadata": {},
   "outputs": [
    {
     "name": "stdout",
     "output_type": "stream",
     "text": [
      "15.0\n"
     ]
    }
   ],
   "source": []
  },
  {
   "cell_type": "code",
   "execution_count": 2,
   "id": "be9d837f-baff-444a-ac9c-4403223a4582",
   "metadata": {},
   "outputs": [],
   "source": [
    "Q.8) Write code for the following given scenario and add try-exception block to it.\n",
    "a. Program to divide two numbers\n",
    "b. Program to convert a string to an integer\n",
    "c. Program to access an element in a list\n",
    "d. Program to handle a specific exception\n",
    "e. Program to handle any exception\n",
    "\n",
    "Ans:- \n",
    "try:\n",
    "    print(x) \n",
    "except :\n",
    "    print(60/4)\n",
    "    \n",
    "***********************\n",
    "Out Put\n",
    "15.0\n",
    "\n",
    "\n",
    "b) Str to \"250\"  int 250\n",
    "The int in python converts string to int and returns the integer object value of the given string or floating number. \n",
    "If we do not give any parameter in the method, it will return 0.\n",
    "\n",
    "c) How do you access an element in a list?\n",
    "The get() method of List interface in Java is used to get the element present in this list at a given specific index.\n",
    "1. Syntax :\n",
    "2. Parameter : This method accepts a single parameter index of type integer which represents the index of the element in this list \n",
    "which is to be returned.\n",
    "\n",
    "d) The order of catch statements is important. Put catch blocks targeted to specific exceptions before a general exception catch block or the\n",
    "compiler might issue an error.The proper catch block is determined by matching the type of the exception to the name of the exception\n",
    "specified in the catch block.\n",
    "\n",
    "e) Exception handling is the process of responding to unwanted or unexpected events when a computer program runs. Exception handling deals \n",
    "with these events to avoid the program or system crashing, and without this process, exceptions would disrupt the normal operation of a program."
   ]
  }
 ],
 "metadata": {
  "kernelspec": {
   "display_name": "Python 3 (ipykernel)",
   "language": "python",
   "name": "python3"
  },
  "language_info": {
   "codemirror_mode": {
    "name": "ipython",
    "version": 3
   },
   "file_extension": ".py",
   "mimetype": "text/x-python",
   "name": "python",
   "nbconvert_exporter": "python",
   "pygments_lexer": "ipython3",
   "version": "3.10.6"
  }
 },
 "nbformat": 4,
 "nbformat_minor": 5
}
